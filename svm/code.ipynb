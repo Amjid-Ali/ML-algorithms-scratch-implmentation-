{
 "cells": [
  {
   "cell_type": "code",
   "execution_count": 1,
   "id": "9808d765",
   "metadata": {},
   "outputs": [],
   "source": [
    "import numpy as np\n",
    "import cvxopt\n",
    "import numpy as np\n",
    "import matplotlib.pyplot as plt"
   ]
  },
  {
   "cell_type": "code",
   "execution_count": 2,
   "id": "ad4aea5b",
   "metadata": {},
   "outputs": [],
   "source": [
    "def create_dataset(N, D=2, K=2):\n",
    "    X = np.zeros((N * K, D))  # data matrix (each row = single example)\n",
    "    y = np.zeros(N * K)  # class labels\n",
    "    for j in range(K):\n",
    "        ix = range(N * j, N * (j + 1))\n",
    "        r = np.linspace(0.0, 1, N)  # radius\n",
    "        t = np.linspace(j * 4, (j + 1) * 4, N) + np.random.randn(N) * 0.2  # theta\n",
    "        X[ix] = np.c_[r * np.sin(t), r * np.cos(t)]\n",
    "        y[ix] = j\n",
    "    # lets visualize the data:\n",
    "    plt.scatter(X[:, 0], X[:, 1], c=y, s=40, cmap=plt.cm.Spectral)\n",
    "    plt.show()\n",
    "    y[y == 0] -= 1\n",
    "    return X, y"
   ]
  },
  {
   "cell_type": "code",
   "execution_count": 17,
   "id": "45c9debc",
   "metadata": {},
   "outputs": [],
   "source": [
    "def plot_contour(X, y, svm):\n",
    "    # plot the resulting classifier\n",
    "    h = 0.01\n",
    "    x_min, x_max = X[:, 0].min() - 1, X[:, 0].max() + 1\n",
    "    y_min, y_max = X[:, 1].min() - 1, X[:, 1].max() + 1\n",
    "    xx, yy = np.meshgrid(np.arange(x_min, x_max, h), np.arange(y_min, y_max, h))\n",
    "    points = np.c_[xx.ravel(), yy.ravel()]\n",
    "    Z = svm.predict(points)\n",
    "    Z = Z.reshape(xx.shape)\n",
    "    plt.contourf(xx, yy, Z, cmap=plt.cm.Spectral, alpha=0.8)\n",
    "    # plt the points\n",
    "    plt.scatter(X[:, 0], X[:, 1], c=y, s=40, cmap=plt.cm.Spectral)\n",
    "    plt.show()"
   ]
  },
  {
   "cell_type": "code",
   "execution_count": 25,
   "id": "4c97cdff",
   "metadata": {},
   "outputs": [],
   "source": [
    "def linear(x, z):\n",
    "    return np.dot(x, z.T)\n",
    "def polynomial(x, z, p=5):\n",
    "    return (1 + np.dot(x, z.T)) ** p\n",
    "def gaussian(x, z, sigma=0.1):\n",
    "    return np.exp(-np.linalg.norm(x - z, axis=1) ** 2 / (2 * (sigma ** 2)))\n",
    "class SVM:\n",
    "    def __init__(self, kernel=gaussian, C=1):\n",
    "        self.kernel = kernel\n",
    "        self.C = C\n",
    "    def fit(self, X, y):\n",
    "        self.y = y\n",
    "        self.X = X\n",
    "        m, n = X.shape\n",
    "        # Calculate Kernel\n",
    "        self.K = np.zeros((m, m))\n",
    "        for i in range(m):\n",
    "            self.K[i, :] = self.kernel(X[i, np.newaxis], self.X)\n",
    "        # Solve with cvxopt final QP needs to be reformulated\n",
    "        # to match the input form for cvxopt.solvers.qp\n",
    "        P = cvxopt.matrix(np.outer(y, y) * self.K)\n",
    "        q = cvxopt.matrix(-np.ones((m, 1)))\n",
    "        G = cvxopt.matrix(np.vstack((np.eye(m) * -1, np.eye(m))))\n",
    "        h = cvxopt.matrix(np.hstack((np.zeros(m), np.ones(m) * self.C)))\n",
    "        A = cvxopt.matrix(y, (1, m), \"d\")\n",
    "        b = cvxopt.matrix(np.zeros(1))\n",
    "        cvxopt.solvers.options[\"show_progress\"] = False\n",
    "        sol = cvxopt.solvers.qp(P, q, G, h, A, b)\n",
    "        self.alphas = np.array(sol[\"x\"])\n",
    "    def predict(self, X):\n",
    "        y_predict = np.zeros((X.shape[0]))\n",
    "        sv = self.get_parameters(self.alphas)\n",
    "        for i in range(X.shape[0]):\n",
    "            y_predict[i] = np.sum(\n",
    "                self.alphas[sv]\n",
    "                * self.y[sv, np.newaxis]\n",
    "                * self.kernel(X[i], self.X[sv])[:, np.newaxis]\n",
    "            )\n",
    "        return np.sign(y_predict + self.b)\n",
    "    def get_parameters(self, alphas):\n",
    "        threshold = 1e-5\n",
    "        sv = ((alphas > threshold) * (alphas < self.C)).flatten()\n",
    "        self.w = np.dot(X[sv].T, alphas[sv] * self.y[sv, np.newaxis])\n",
    "        self.b = np.mean(\n",
    "            self.y[sv, np.newaxis]\n",
    "            - self.alphas[sv] * self.y[sv, np.newaxis] * self.K[sv, sv][:, np.newaxis]\n",
    "        )\n",
    "        return sv"
   ]
  },
  {
   "cell_type": "code",
   "execution_count": 18,
   "id": "2c004ca0",
   "metadata": {},
   "outputs": [],
   "source": [
    "# np.random.seed(1)\n",
    "# X, y = create_dataset(N=50)"
   ]
  },
  {
   "cell_type": "code",
   "execution_count": 20,
   "id": "08cec04a",
   "metadata": {},
   "outputs": [],
   "source": [
    "# svm = SVM(kernel=gaussian)\n",
    "# svm.fit(X, y)\n",
    "# y_pred = svm.predict(X)\n",
    "# plot_contour(X, y, svm)"
   ]
  },
  {
   "cell_type": "code",
   "execution_count": 21,
   "id": "9e0df140",
   "metadata": {},
   "outputs": [],
   "source": [
    "# print(f\"Accuracy: {sum(y==y_pred)/y.shape[0]}\")"
   ]
  },
  {
   "cell_type": "markdown",
   "id": "99d8a9c1",
   "metadata": {},
   "source": [
    "# svm"
   ]
  },
  {
   "cell_type": "code",
   "execution_count": 22,
   "id": "3eca8116",
   "metadata": {},
   "outputs": [],
   "source": [
    "import numpy as np\n",
    "import matplotlib.pyplot as plt\n",
    "from sklearn import datasets\n",
    "from sklearn.model_selection import train_test_split"
   ]
  },
  {
   "cell_type": "code",
   "execution_count": 23,
   "id": "b2ebbef0",
   "metadata": {},
   "outputs": [],
   "source": [
    "class SVM:\n",
    "    def __init__(self, learning_rate=0.0001, lambda_param=0.001, n_iters=10000):\n",
    "        self.weights = None\n",
    "        self.bias =  None\n",
    "        self.lr = learning_rate\n",
    "        self.lambda_param = lambda_param\n",
    "        self.n_iters = n_iters\n",
    "    def fit(self,X,y):\n",
    "        n_samples, n_features = X.shape\n",
    "        y1 = np.where(y <= 0, -1, 1)\n",
    "        self.weights = np.zeros(n_features)\n",
    "        self.bias = 0\n",
    "        for i in range(self.n_iters):\n",
    "            for idx, x_i in enumerate(X):\n",
    "                condition = y1[idx] * (np.dot(x_i, self.weights) - self.bias) >= 1\n",
    "                if condition:\n",
    "                    self.weights -= self.lr * (2 * self.lambda_param * self.weights)\n",
    "                else:\n",
    "                    self.weights -= self.lr * (2 * self.lambda_param * self.weights - np.dot(x_i, y1[idx]))\n",
    "                    self.bias -= self.lr * y1[idx]\n",
    "    def predict(self, X):\n",
    "        approx = np.dot(X, self.weights) - self.bias\n",
    "        return np.sign(approx)"
   ]
  },
  {
   "cell_type": "code",
   "execution_count": 24,
   "id": "e6bc8f05",
   "metadata": {},
   "outputs": [],
   "source": [
    "def accuracy(y_true,y_pred):\n",
    "    acc = np.sum(y_true == y_pred)/len(y_true)\n",
    "    return acc"
   ]
  },
  {
   "cell_type": "code",
   "execution_count": 28,
   "id": "62da5e7b",
   "metadata": {},
   "outputs": [
    {
     "name": "stdout",
     "output_type": "stream",
     "text": [
      "Accuracy: 0.5333333333333333\n",
      "\n",
      "     Final Weight:[0.6005085  0.16801693]\n",
      "     Final Bias:-0.06990000000000098\n",
      "     \n"
     ]
    }
   ],
   "source": [
    "X, y =  datasets.make_blobs(n_samples=50, n_features=2, centers=2, cluster_std=1.05, random_state=40)\n",
    "X_train,X_test,y_train,y_test = train_test_split(X,y,test_size=0.3,random_state=42)\n",
    "y = np.where(y == 0, -1, 1)\n",
    "clf = SVM()\n",
    "clf.fit(X_train,y_train)\n",
    "predict = clf.predict(X_test)\n",
    "svm_acc = accuracy(y_test,predict)\n",
    "print('Accuracy:',svm_acc)\n",
    "print(f'''\n",
    "     Final Weight:{clf.weights}\n",
    "     Final Bias:{clf.bias}\n",
    "     ''')"
   ]
  },
  {
   "cell_type": "code",
   "execution_count": 27,
   "id": "812bba3d",
   "metadata": {},
   "outputs": [
    {
     "data": {
      "image/png": "[encoded data removed]",
      "text/plain": [
       "<Figure size 432x288 with 1 Axes>"
      ]
     },
     "metadata": {
      "needs_background": "light"
     },
     "output_type": "display_data"
    }
   ],
   "source": [
    "def visualize_svm():\n",
    "    def get_hyperplane_value(x, w, b, offset):\n",
    "        return (-w[0] * x + b + offset) / w[1]\n",
    "    fig = plt.figure()\n",
    "    ax = fig.add_subplot(1,1,1)\n",
    "    plt.scatter(X[:,0], X[:,1], marker='o',c=y)\n",
    "    x0_1 = np.amin(X[:,0])\n",
    "    x0_2 = np.amax(X[:,0])\n",
    "    x1_1 = get_hyperplane_value(x0_1, clf.weights, clf.bias, 0)\n",
    "    x1_2 = get_hyperplane_value(x0_2, clf.weights, clf.bias, 0)\n",
    "    x1_1_m = get_hyperplane_value(x0_1, clf.weights, clf.bias, -1)\n",
    "    x1_2_m = get_hyperplane_value(x0_2, clf.weights, clf.bias, -1)\n",
    "    x1_1_p = get_hyperplane_value(x0_1, clf.weights, clf.bias, 1)\n",
    "    x1_2_p = get_hyperplane_value(x0_2, clf.weights, clf.bias, 1)\n",
    "    ax.plot([x0_1, x0_2],[x1_1, x1_2], 'b--')\n",
    "    ax.plot([x0_1, x0_2],[x1_1_m, x1_2_m], 'k')\n",
    "    ax.plot([x0_1, x0_2],[x1_1_p, x1_2_p], 'k')\n",
    "    x1_min = np.amin(X[:,1])\n",
    "    x1_max = np.amax(X[:,1])\n",
    "    ax.set_ylim([x1_min-3,x1_max+3])\n",
    "    plt.show()\n",
    "visualize_svm() "
   ]
  },
  {
   "cell_type": "code",
   "execution_count": null,
   "id": "f6b43de9",
   "metadata": {},
   "outputs": [],
   "source": []
  },
  {
   "cell_type": "code",
   "execution_count": null,
   "id": "e4f25fec",
   "metadata": {},
   "outputs": [],
   "source": []
  },
  {
   "cell_type": "code",
   "execution_count": null,
   "id": "d06ac3ff",
   "metadata": {},
   "outputs": [],
   "source": []
  },
  {
   "cell_type": "code",
   "execution_count": null,
   "id": "8496d911",
   "metadata": {},
   "outputs": [],
   "source": []
  }
 ],
 "metadata": {
  "kernelspec": {
   "display_name": "Python 3 (ipykernel)",
   "language": "python",
   "name": "python3"
  },
  "language_info": {
   "codemirror_mode": {
    "name": "ipython",
    "version": 3
   },
   "file_extension": ".py",
   "mimetype": "text/x-python",
   "name": "python",
   "nbconvert_exporter": "python",
   "pygments_lexer": "ipython3",
   "version": "3.8.12"
  }
 },
 "nbformat": 4,
 "nbformat_minor": 5
}
